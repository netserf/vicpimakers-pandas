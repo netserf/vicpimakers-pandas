{
 "cells": [
  {
   "cell_type": "markdown",
   "id": "f8063bc5",
   "metadata": {},
   "source": [
    "# pandas and Data Wrangling\n",
    "\n",
    "## Introduction\n",
    "\n",
    "**pandas** is a fast, powerful, flexible and easy to use open source data analysis and manipulation tool,\n",
    "built on top of the Python programming language<sup>1</sup>.\n",
    "\n",
    "GeeksforGeeks describes **Data wrangling** as, \"the process of gathering, collecting, and transforming Raw data into another format for better understanding, decision-making, accessing, and analysis in less time. Data Wrangling is also known as Data Munging.\"<sup>2</sup>\n",
    "\n",
    "This session will provide an overview of common Pandas' API (methods) used to transform your datasets.\n",
    "\n",
    "We will learn to :\n",
    "- Install Pandas\n",
    "- Define the DataFrame and Series classes\n",
    "- Work with columns and rows\n",
    "- Filter rows\n",
    "- Apply or update data\n",
    "- ~~Merge and~~ concatenate datasets\n",
    "- Read and ~~write~~ to a file\n",
    "- Do more, time permitting\n",
    "\n",
    "This presentation assumes that Python 3.7.x or greater is already installed on your Raspberry Pi or other SBC (or Windows, Mac, or Linux system).\n",
    "\n",
    "### Notes\n",
    "* pandas relies on a variety of different libraries for reading and writing data from remote resources depending on the protocol.  Support for IPv6 should be documented by the authors of the libraries.\n",
    "* Security issues with pandas are beyond the scope of this presentation.\n",
    "\n",
    "### Coding Style/Syntax/Nomenclature\n",
    "Where possible (and I remember),\n",
    "\n",
    "* function/method arguments/parameters will include the keyword.  For example, instead of calling a function using `quadratic(1,2,3)`, I will use `quadratic(a=1, b=2, c=3)`.\n",
    "* pass a list of values when the parameter accepts either a single item or a list of items.  For example, I use `foo(data=['1'])` rather than `foo(data='1')`.\n",
    "* stick with 'method' and 'parameters' rather than 'function' and 'arguments' respectively, because pandas is object-oriented and uses that terminology in the documentation."
   ]
  },
  {
   "cell_type": "markdown",
   "id": "85f99a2c",
   "metadata": {},
   "source": [
    "## Install pandas\n",
    "\n",
    "Prerequisites\n",
    "* python >= 3.7.x\n",
    "* pip\n",
    "* git [optional]\n",
    "* python-virtualenv [recommended]"
   ]
  },
  {
   "cell_type": "markdown",
   "id": "d8041168",
   "metadata": {},
   "source": [
    "To install pandas, using pip on the command line\n",
    "\n",
    "`pip install pandas`\n",
    "\n",
    "Details on installing pandas via Anaconda, Miniconda, Linux Distro, etc. can be found here: https://pandas.pydata.org/pandas-docs/stable/getting_started/install.html"
   ]
  },
  {
   "cell_type": "markdown",
   "id": "f956c422",
   "metadata": {},
   "source": [
    "To use pandas in your code, simply import the module.  The convention is to rename the module to 'pd' during the import."
   ]
  },
  {
   "cell_type": "code",
   "execution_count": null,
   "id": "a9835656",
   "metadata": {},
   "outputs": [],
   "source": [
    "import pandas as pd"
   ]
  },
  {
   "cell_type": "markdown",
   "id": "af83ebf8",
   "metadata": {},
   "source": [
    "## Define Panda Data Structures"
   ]
  },
  {
   "cell_type": "markdown",
   "id": "fb10c3d4",
   "metadata": {},
   "source": [
    "### Series\n",
    "A *Series* is an one-dimension ndarray (N-dimensional array), with labels, that can hold any Python data type (integers, floats, strings, objects).  The labels along the axis are called the index.\n",
    "\n",
    "Conceptually, a visual representation of a series, with labels \"a\", \"b\", \"c\" and values 1.0, 2.0, 3.0, respectively is:\n",
    "\n",
    "|index|data|\n",
    "|-----|----|\n",
    "|\"a\"  |1.0 |\n",
    "|\"b\"  |2.0 |\n",
    "|\"c\"  |3.0 |\n",
    "\n",
    "Labels should be a hashable type, such as an integer, float, or string.  The labels don't need to be unique and can be different types.  (I would advise against duplicate labels and mixing types.)"
   ]
  },
  {
   "cell_type": "markdown",
   "id": "21c20381",
   "metadata": {},
   "source": [
    "#### Creating Series objects"
   ]
  },
  {
   "cell_type": "markdown",
   "id": "e30a9a6e",
   "metadata": {},
   "source": [
    "Series of integers, with pandas defining the index.\n",
    "\n",
    "Notice that the first column of the output is the index and the second column contains the values.  The last line is the data type of all the elements."
   ]
  },
  {
   "cell_type": "code",
   "execution_count": null,
   "id": "6bf62820",
   "metadata": {},
   "outputs": [],
   "source": [
    "pd.Series(data=[1,2,3])"
   ]
  },
  {
   "cell_type": "markdown",
   "id": "2e9ae621",
   "metadata": {},
   "source": [
    "Series of strings, with labels provided.\n",
    "\n",
    "By default, strings are considered objects but we can override that by specifying the data type."
   ]
  },
  {
   "cell_type": "code",
   "execution_count": null,
   "id": "a8d0d842",
   "metadata": {},
   "outputs": [],
   "source": [
    "pd.Series(data=['a','b','c'], index=['a','b','c'], dtype='string')"
   ]
  },
  {
   "cell_type": "markdown",
   "id": "92e32367",
   "metadata": {},
   "source": [
    "Series with different data types and labels provided.  The data type is 'object' because of the mixed values."
   ]
  },
  {
   "cell_type": "code",
   "execution_count": null,
   "id": "77fa0477",
   "metadata": {},
   "outputs": [],
   "source": [
    "pd.Series(data=['a',1,2.0,[1,2,3],{'x': 1.0, 'y': 2.0, 'z': 4.0}],\n",
    "          index=['string','int','float','list','dict'])"
   ]
  },
  {
   "cell_type": "markdown",
   "id": "4c2d505f",
   "metadata": {},
   "source": [
    "#### Accessing Series object values"
   ]
  },
  {
   "cell_type": "markdown",
   "id": "e4abf96c",
   "metadata": {},
   "source": [
    "First value of a series with a default index.  (Remember that Python uses zero-based indexes, so 0 refers to the first element.)"
   ]
  },
  {
   "cell_type": "code",
   "execution_count": null,
   "id": "6ba4d11e",
   "metadata": {},
   "outputs": [],
   "source": [
    "series = pd.Series(data=[1,2,3])\n",
    "label = 0\n",
    "\n",
    "series[label]"
   ]
  },
  {
   "cell_type": "markdown",
   "id": "66550e1e",
   "metadata": {},
   "source": [
    "Value of the series at the label 'c'."
   ]
  },
  {
   "cell_type": "code",
   "execution_count": null,
   "id": "06777e0b",
   "metadata": {},
   "outputs": [],
   "source": [
    "series = pd.Series(data=[1,2,3], index=['a','b','c'])\n",
    "label = 'c'\n",
    "\n",
    "series[label]"
   ]
  },
  {
   "cell_type": "markdown",
   "id": "61a84ac4",
   "metadata": {},
   "source": [
    "An error occurs if we try to access a label that doesn't exist in the Series."
   ]
  },
  {
   "cell_type": "code",
   "execution_count": null,
   "id": "44a67ef3",
   "metadata": {},
   "outputs": [],
   "source": [
    "try:\n",
    "    print(series[1000])\n",
    "except IndexError:\n",
    "    print('IndexError')\n",
    "    \n",
    "try:\n",
    "    print(series['invalid'])\n",
    "except KeyError:\n",
    "    print('KeyError')\n",
    "\n",
    "    "
   ]
  },
  {
   "cell_type": "markdown",
   "id": "b667c0a2",
   "metadata": {},
   "source": [
    "Value of a specific list item at the label 'list'."
   ]
  },
  {
   "cell_type": "code",
   "execution_count": null,
   "id": "0a2c918c",
   "metadata": {},
   "outputs": [],
   "source": [
    "series = pd.Series(data=['a',1,2.0,[1,2,3],{'x': 1.0, 'y': 2.0, 'z': 4.0}],\n",
    "                   index=['string','int','float','list','dict'])\n",
    "label = 'list'\n",
    "index = 1\n",
    "\n",
    "series[label][index]"
   ]
  },
  {
   "cell_type": "markdown",
   "id": "ada3bbcc",
   "metadata": {},
   "source": [
    "Dictionary value at the label 'dict' with the key 'y'."
   ]
  },
  {
   "cell_type": "code",
   "execution_count": null,
   "id": "53d0b253",
   "metadata": {},
   "outputs": [],
   "source": [
    "series = pd.Series(data=['a',1,2.0,[1,2,3],{'x': 1.0, 'y': 2.0, 'z': 4.0}],\n",
    "                   index=['string','int','float','list','dict'])\n",
    "label = 'dict'\n",
    "key   = 'y'\n",
    "\n",
    "series[label][key]"
   ]
  },
  {
   "cell_type": "markdown",
   "id": "649ea8f7",
   "metadata": {},
   "source": [
    "#### Manipulating Series objects"
   ]
  },
  {
   "cell_type": "markdown",
   "id": "323351be",
   "metadata": {},
   "source": [
    "These are various ways of changing, adding, or removing values in a Series."
   ]
  },
  {
   "cell_type": "code",
   "execution_count": null,
   "id": "b4d6580e",
   "metadata": {},
   "outputs": [],
   "source": [
    "series = pd.Series(data=[1,2,3])\n",
    "\n",
    "# change a value\n",
    "series[0] = 1000\n",
    "\n",
    "# append a value\n",
    "series[len(series)] = '4'\n",
    "\n",
    "# remove an row\n",
    "series = series.drop(labels=[1])\n",
    "\n",
    "# remove row without reassignment; default for inplace is False\n",
    "series.drop(labels=[3], inplace=True)\n",
    "\n",
    "# add values at arbitrary indices\n",
    "series[9] = '10'\n",
    "series['ten'] = '11'\n",
    "\n",
    "print(series)"
   ]
  },
  {
   "cell_type": "markdown",
   "id": "53d9ac8a",
   "metadata": {},
   "source": [
    "Reset the index to a default integer index.  (Notice that the original index is preserved as a new column.  Use the parameter, `drop=True`, to exclude it.)"
   ]
  },
  {
   "cell_type": "code",
   "execution_count": null,
   "id": "020915fc",
   "metadata": {},
   "outputs": [],
   "source": [
    "series.reset_index()"
   ]
  },
  {
   "cell_type": "markdown",
   "id": "85da4811",
   "metadata": {},
   "source": [
    "### DataFrame"
   ]
  },
  {
   "cell_type": "markdown",
   "id": "566acdc9",
   "metadata": {},
   "source": [
    "A *DataFrame* is an two-dimension array, with labels for both the rows (index) and columns.  Each column can hold any Python data type (integers, floats, strings, objects).  Think of a DataFrame as a SQL table or spreadsheet file.\n",
    "\n",
    "Labels for both axes should be a hashable type, such as an integer, float, or string.  The labels don't need to be unique and can be different types.  (I would advise against duplicate labels and mixing types.)"
   ]
  },
  {
   "cell_type": "markdown",
   "id": "1ec68c9c",
   "metadata": {},
   "source": [
    "#### Creating DataFrame objects"
   ]
  },
  {
   "cell_type": "markdown",
   "id": "bf1771f8",
   "metadata": {},
   "source": [
    "DataFrame, with a column of integers and another of strings, with pandas defining the index."
   ]
  },
  {
   "cell_type": "code",
   "execution_count": null,
   "id": "fa9e18dc",
   "metadata": {},
   "outputs": [],
   "source": [
    "df = pd.DataFrame(data = [[1,'a'],\n",
    "                          [2,'b'],\n",
    "                          [3,'c']])\n",
    "\n",
    "df"
   ]
  },
  {
   "cell_type": "markdown",
   "id": "d7932ada",
   "metadata": {},
   "source": [
    "DataFrame, with a column of integers and another of strings, with a index and column labels provided."
   ]
  },
  {
   "cell_type": "code",
   "execution_count": null,
   "id": "4f33ca71",
   "metadata": {},
   "outputs": [],
   "source": [
    "df = pd.DataFrame(data = [[1,'a'],\n",
    "                          [2,'b'],\n",
    "                          [3,'c']],\n",
    "                  index = ['row_1','row_2','row_3'],\n",
    "                  columns = ['column_1','column_2'])\n",
    "\n",
    "df"
   ]
  },
  {
   "cell_type": "markdown",
   "id": "9e328a3f",
   "metadata": {},
   "source": [
    "DataFrame constructed from a dictionary of series, with a column of integers and another of strings, with pandas defining the index and column labels provided."
   ]
  },
  {
   "cell_type": "code",
   "execution_count": null,
   "id": "72065749",
   "metadata": {},
   "outputs": [],
   "source": [
    "df = pd.DataFrame(data = {'column_1' : [1, 2, 3],\n",
    "                          'column_2' : ['a','b','c']})\n",
    "\n",
    "df"
   ]
  },
  {
   "cell_type": "markdown",
   "id": "111c82fc",
   "metadata": {},
   "source": [
    "#### Accessing DataFrame object values"
   ]
  },
  {
   "cell_type": "code",
   "execution_count": null,
   "id": "c4f36c2a",
   "metadata": {},
   "outputs": [],
   "source": [
    "# DataFrame for section\n",
    "df = pd.DataFrame(data = [[1,'a',1.0,'abc'],\n",
    "                          [2,'b',2.0,'def'],\n",
    "                          [3,'c',3.0,'ghi']])"
   ]
  },
  {
   "cell_type": "markdown",
   "id": "23859014",
   "metadata": {},
   "source": [
    "Select first column of a DataFrame with a default index."
   ]
  },
  {
   "cell_type": "code",
   "execution_count": null,
   "id": "856b57b1",
   "metadata": {},
   "outputs": [],
   "source": [
    "column_label = 0\n",
    "\n",
    "df[column_label]"
   ]
  },
  {
   "cell_type": "markdown",
   "id": "240cb750",
   "metadata": {},
   "source": [
    "Use Python slices to access row(s):"
   ]
  },
  {
   "cell_type": "code",
   "execution_count": null,
   "id": "bd4d2234",
   "metadata": {},
   "outputs": [],
   "source": [
    "df[2:3]"
   ]
  },
  {
   "cell_type": "markdown",
   "id": "49d3c4ef",
   "metadata": {},
   "source": [
    "Select multiple columns, in a specific order, and slices to access row(s)."
   ]
  },
  {
   "cell_type": "code",
   "execution_count": null,
   "id": "cae1e1d7",
   "metadata": {},
   "outputs": [],
   "source": [
    "column_labels = [2,0]\n",
    "\n",
    "print(df[column_labels][-1:])"
   ]
  },
  {
   "cell_type": "markdown",
   "id": "93d6cb80",
   "metadata": {},
   "source": [
    "#### Manipulating DataFrame objects"
   ]
  },
  {
   "cell_type": "code",
   "execution_count": null,
   "id": "9eeb17ae",
   "metadata": {},
   "outputs": [],
   "source": [
    "# DataFrame for section\n",
    "df = pd.DataFrame(data = [[1,'a',1.0,'abc'],\n",
    "                          [2,'b',2.0,'def'],\n",
    "                          [3,'c',3.0,'ghi']])"
   ]
  },
  {
   "cell_type": "markdown",
   "id": "abaa0e85",
   "metadata": {},
   "source": [
    "Rename one or more columns by passing a dictionary of the mappings, with each key being the existing column position or name and value is new name."
   ]
  },
  {
   "cell_type": "code",
   "execution_count": null,
   "id": "212ffbed",
   "metadata": {},
   "outputs": [],
   "source": [
    "df.rename(columns={0:'integers'}, inplace=True)\n",
    "\n",
    "df"
   ]
  },
  {
   "cell_type": "markdown",
   "id": "88612936",
   "metadata": {},
   "source": [
    "Reassign the value when `inplace=True` isn't used."
   ]
  },
  {
   "cell_type": "code",
   "execution_count": null,
   "id": "8d7ffd46",
   "metadata": {},
   "outputs": [],
   "source": [
    "df = df.rename(columns={'integers':'ints'})\n",
    "\n",
    "df"
   ]
  },
  {
   "cell_type": "markdown",
   "id": "b5292af7",
   "metadata": {},
   "source": [
    "Drop one or more columns."
   ]
  },
  {
   "cell_type": "code",
   "execution_count": null,
   "id": "ed698498",
   "metadata": {},
   "outputs": [],
   "source": [
    "df.drop(columns=[1,2])"
   ]
  },
  {
   "cell_type": "markdown",
   "id": "d14069c5",
   "metadata": {},
   "source": [
    "## Data Wrangling Exercise\n",
    "\n",
    "The best way to understand pandas is by working on a dataset.  This exercise will use a dataset, containing a list of repeaters in BC, scraped from https://bcarcc.org/frequency_list into a CSV."
   ]
  },
  {
   "cell_type": "markdown",
   "id": "9e39ff9c",
   "metadata": {},
   "source": [
    "#### Read the data\n",
    "pandas has many methods for reading data from a variety of sources, such as CSV, JSON, SQL, etc...\n",
    "\n",
    "The method for reading a CSV has many parameters, such as specifying the seperator character, quote character, line termination type.  In this demonstration, we will simply pass the name and use the parameter defaults - specified in the documentation.\n",
    "\n",
    "My preference is to allow pandas to define the index, rather than using an existing column that may not contain unique values."
   ]
  },
  {
   "cell_type": "code",
   "execution_count": null,
   "id": "48d32011",
   "metadata": {},
   "outputs": [],
   "source": [
    "csv_df = pd.read_csv(\"data/bcarcc-repeater_list.csv\")\n",
    "\n",
    "csv_df"
   ]
  },
  {
   "cell_type": "markdown",
   "id": "ae0c9924",
   "metadata": {},
   "source": [
    "Notice that Jupyter notebook has nicely formatted the output of the DataFrame.  The continuation ellipses are a function of pandas and can be overwritten by:\n",
    "\n",
    "```\n",
    "pd.set_option('display.max_rows', 500)\n",
    "pd.set_option('display.max_columns', 500)\n",
    "pd.set_option('display.width', 1000)\n",
    "```\n",
    "\n",
    "Given that the dataset has close to five hundred rows, this example will keep the default display options."
   ]
  },
  {
   "cell_type": "markdown",
   "id": "02646eec",
   "metadata": {},
   "source": [
    "Show the size of the table."
   ]
  },
  {
   "cell_type": "code",
   "execution_count": null,
   "id": "10a6df87",
   "metadata": {},
   "outputs": [],
   "source": [
    "csv_df.shape"
   ]
  },
  {
   "cell_type": "markdown",
   "id": "d315159a",
   "metadata": {},
   "source": [
    "Show the (default) index."
   ]
  },
  {
   "cell_type": "code",
   "execution_count": null,
   "id": "d4fad9a3",
   "metadata": {},
   "outputs": [],
   "source": [
    "csv_df.index"
   ]
  },
  {
   "cell_type": "markdown",
   "id": "332ea74d",
   "metadata": {},
   "source": [
    "Show the column names."
   ]
  },
  {
   "cell_type": "code",
   "execution_count": null,
   "id": "76adf2dc",
   "metadata": {},
   "outputs": [],
   "source": [
    "csv_df.columns"
   ]
  },
  {
   "cell_type": "markdown",
   "id": "80c18db7",
   "metadata": {},
   "source": [
    "Rename the columns so the labels are all lowercase and more descriptive."
   ]
  },
  {
   "cell_type": "code",
   "execution_count": null,
   "id": "e7067ba9",
   "metadata": {},
   "outputs": [],
   "source": [
    "csv_df.columns = ['band','transmit','receive','location','callsign','mode','access','sponsor','region']\n",
    "\n",
    "csv_df.head()"
   ]
  },
  {
   "cell_type": "markdown",
   "id": "cfa98d28",
   "metadata": {},
   "source": [
    "Sort the DataFrame by one column, without reassignment."
   ]
  },
  {
   "cell_type": "code",
   "execution_count": null,
   "id": "dd2f0ff7",
   "metadata": {},
   "outputs": [],
   "source": [
    "csv_df.sort_values(by=['band'])"
   ]
  },
  {
   "cell_type": "markdown",
   "id": "d66efbfc",
   "metadata": {},
   "source": [
    "Sort the DataFrame by multiple columns, without reassignment."
   ]
  },
  {
   "cell_type": "code",
   "execution_count": null,
   "id": "96111a77",
   "metadata": {},
   "outputs": [],
   "source": [
    "csv_df.sort_values(by=['band','region'])"
   ]
  },
  {
   "cell_type": "markdown",
   "id": "ccc650da",
   "metadata": {},
   "source": [
    "Replace the 'NaN' values with an empty string."
   ]
  },
  {
   "cell_type": "code",
   "execution_count": null,
   "id": "f139b02e",
   "metadata": {},
   "outputs": [],
   "source": [
    "csv_df.fillna('', inplace=True)\n",
    "\n",
    "csv_df"
   ]
  },
  {
   "cell_type": "markdown",
   "id": "c635b470",
   "metadata": {},
   "source": [
    "Search for all repeaters that are located in Victoria."
   ]
  },
  {
   "cell_type": "code",
   "execution_count": null,
   "id": "aa51753a",
   "metadata": {},
   "outputs": [],
   "source": [
    "csv_df[csv_df['location'] == 'Victoria']"
   ]
  },
  {
   "cell_type": "markdown",
   "id": "1c96cc13",
   "metadata": {},
   "source": [
    "The statement `csv_df[csv_df['location'] == 'Victoria']` instructs pandas to evaluate the 'location' value for each row and create a boolean array.  pandas then uses this array to filter the DataFrame.\n",
    "\n",
    "The following conditions for filtering are permitted: <,>,==,<=,>=,!=\n",
    "\n",
    "To negate the filter, use the tilde before the condition.  For example, to find all locations not in Victoria, use `csv_df[~csv_df['location'] == 'Victoria']`\n",
    "\n",
    "Since the resulting DataFrame wasn't reassigned to itself or to a new variable, the filtering isn't preserved.\n",
    "\n",
    "You may also see columns referenced using a dot notation.  For example, `csv_df['location']` is the same as csv_df.location.  I prefer using square brackets so I can pass use a list to display more than one column."
   ]
  },
  {
   "cell_type": "code",
   "execution_count": null,
   "id": "b62fdcfa",
   "metadata": {},
   "outputs": [],
   "source": [
    "csv_df['location'] == 'Victoria'"
   ]
  },
  {
   "cell_type": "markdown",
   "id": "c575af15",
   "metadata": {},
   "source": [
    "The same filter as above but using `loc` and dropping two columns, without reassignment."
   ]
  },
  {
   "cell_type": "code",
   "execution_count": null,
   "id": "65cf5f27",
   "metadata": {},
   "outputs": [],
   "source": [
    "csv_df.loc[csv_df['location'] == 'Victoria'].drop(columns=['location','region'])"
   ]
  },
  {
   "cell_type": "markdown",
   "id": "580ceab1",
   "metadata": {},
   "source": [
    "pandas can create a boolean array for filtering based on multiple conditions.  Unlike other languages the 'and' condition is one ampersand (&) and, the 'or' is one pipe (|).  Each condition **must** be surrounded by parentheses.  If you want to negate the all of the conditions, you must then wrap the conditions with parentheses and use a tilde before the opening parenthesis (or switch up your logic).  You can also negate individual conditions by including a tilde before the opening parenthesis of the condition."
   ]
  },
  {
   "cell_type": "code",
   "execution_count": null,
   "id": "484535e6",
   "metadata": {},
   "outputs": [],
   "source": [
    "csv_df[(csv_df['location'] == 'Victoria') & (csv_df['sponsor'] != 'WARA')]"
   ]
  },
  {
   "cell_type": "markdown",
   "id": "91521e4b",
   "metadata": {},
   "source": [
    "pandas has a method for removing duplicate values."
   ]
  },
  {
   "cell_type": "code",
   "execution_count": null,
   "id": "4185584e",
   "metadata": {},
   "outputs": [],
   "source": [
    "csv_df['band'].drop_duplicates()"
   ]
  },
  {
   "cell_type": "markdown",
   "id": "87215c1b",
   "metadata": {},
   "source": [
    "Imagine we want to know all the 2-metre and 70-centimetre repeaters"
   ]
  },
  {
   "cell_type": "code",
   "execution_count": null,
   "id": "44ac537c",
   "metadata": {},
   "outputs": [],
   "source": [
    "bands = [144,440]\n",
    "\n",
    "csv_df[csv_df['band'].isin(bands)]"
   ]
  },
  {
   "cell_type": "markdown",
   "id": "3ca280ab",
   "metadata": {},
   "source": [
    "Note quirk about using regex\n",
    "Does whole "
   ]
  },
  {
   "cell_type": "code",
   "execution_count": null,
   "id": "3ea6e761",
   "metadata": {},
   "outputs": [],
   "source": [
    "csv_df = csv_df.replace(to_replace='&amp;',value='&',regex=True)\n",
    "\n",
    "csv_df"
   ]
  },
  {
   "cell_type": "code",
   "execution_count": null,
   "id": "616d2454",
   "metadata": {},
   "outputs": [],
   "source": [
    "csv_df['region'].replace(to_replace=r'^BC\\s(.*)',value=r'BRITISH COLUMBIA \\1', regex=True, inplace=True)\n",
    "\n",
    "csv_df"
   ]
  },
  {
   "cell_type": "markdown",
   "id": "655d0a81",
   "metadata": {},
   "source": [
    "#### Advanced  Exercise\n",
    "\n",
    "https://climate.weather.gc.ca/\n",
    "\n",
    "https://sunrise-sunset.org/\n"
   ]
  },
  {
   "cell_type": "code",
   "execution_count": null,
   "id": "c4504a7b",
   "metadata": {},
   "outputs": [],
   "source": [
    "april_weather_data = {}\n",
    "april_suntimes_data = {}\n",
    "\n",
    "for year in range(2018,2023):\n",
    "    april_weather_data[year] = pd.read_csv(f'data/en_climate_hourly_BC_1018621_04-{year}_P1H.csv')\n",
    "    april_suntimes_data[year] = pd.read_csv(f'data/sunrise-sunset_victoria_bc_canada_{year}-04.csv')"
   ]
  },
  {
   "cell_type": "code",
   "execution_count": null,
   "id": "adc5ab31",
   "metadata": {},
   "outputs": [],
   "source": [
    "april_weather_data[2022][['Temp (°C)','Dew Point Temp (°C)','Rel Hum (%)']].describe()"
   ]
  },
  {
   "cell_type": "code",
   "execution_count": null,
   "id": "a3a3fe2d",
   "metadata": {},
   "outputs": [],
   "source": [
    "all_april_weather_data = pd.concat([april_weather_data[2018],\n",
    "                                    april_weather_data[2019],\n",
    "                                    april_weather_data[2020],\n",
    "                                    april_weather_data[2021],\n",
    "                                    april_weather_data[2022]],\n",
    "                                   axis=1)\n",
    "\n",
    "all_april_weather_data.shape"
   ]
  },
  {
   "cell_type": "code",
   "execution_count": null,
   "id": "92b7998d",
   "metadata": {},
   "outputs": [],
   "source": [
    "# T(°F) = T(°C) × 9/5 + 32\n",
    "april_weather_data[2022]['Temp (°F)'] = april_weather_data[2022]['Temp (°C)'] * 9/5 + 32\n",
    "\n",
    "april_weather_data[2022][['Temp (°C)','Temp (°F)']].head()"
   ]
  },
  {
   "cell_type": "markdown",
   "id": "cfb3c4bc",
   "metadata": {},
   "source": [
    "## Conclusion\n",
    "\n",
    "This presentation is just the tip of the iceberg when it comes to the pandas API.  I have been working with pandas for almost three years and discovered new methods and techniques for wrangling data."
   ]
  },
  {
   "cell_type": "markdown",
   "id": "8325e908",
   "metadata": {},
   "source": [
    "## References\n",
    "\n",
    "1. https://pandas.pydata.org"
   ]
  }
 ],
 "metadata": {
  "kernelspec": {
   "display_name": "Python 3 (ipykernel)",
   "language": "python",
   "name": "python3"
  },
  "language_info": {
   "codemirror_mode": {
    "name": "ipython",
    "version": 3
   },
   "file_extension": ".py",
   "mimetype": "text/x-python",
   "name": "python",
   "nbconvert_exporter": "python",
   "pygments_lexer": "ipython3",
   "version": "3.10.6"
  },
  "widgets": {
   "application/vnd.jupyter.widget-state+json": {
    "state": {},
    "version_major": 2,
    "version_minor": 0
   }
  }
 },
 "nbformat": 4,
 "nbformat_minor": 5
}
